{
  "nbformat": 4,
  "nbformat_minor": 0,
  "metadata": {
    "colab": {
      "provenance": [],
      "authorship_tag": "ABX9TyMkUS8M4WtAjO8LWyiHpKp0",
      "include_colab_link": true
    },
    "kernelspec": {
      "name": "python3",
      "display_name": "Python 3"
    },
    "language_info": {
      "name": "python"
    }
  },
  "cells": [
    {
      "cell_type": "markdown",
      "metadata": {
        "id": "view-in-github",
        "colab_type": "text"
      },
      "source": [
        "<a href=\"https://colab.research.google.com/github/JAmanOG/DSPracticals/blob/main/Prac3.ipynb\" target=\"_parent\"><img src=\"https://colab.research.google.com/assets/colab-badge.svg\" alt=\"Open In Colab\"/></a>"
      ]
    },
    {
      "cell_type": "code",
      "execution_count": 4,
      "metadata": {
        "colab": {
          "base_uri": "https://localhost:8080/"
        },
        "id": "HL7YJM3EYFyB",
        "outputId": "5cd55d17-8e80-4699-84de-c9a274a51f53"
      },
      "outputs": [
        {
          "output_type": "stream",
          "name": "stdout",
          "text": [
            "Original Dataset:\n",
            "             Product    Category  Sales  Cost  Profit\n",
            "0        Apple Juice       Apple   1200   600     600\n",
            "1    Banana Smoothie      Banana   1700   850     850\n",
            "2         Orange Jam      Orange   2200  1100    1100\n",
            "3        Grape Jelly       Grape   1400   700     700\n",
            "4       Kiwi Parfait        Kiwi   2000  1000    1000\n",
            "5      Mango Chutney       Mango   1000   500     500\n",
            "6   Pineapple Sorbet   Pineapple   1500   750     750\n",
            "7  Strawberry Yogurt  Strawberry   1800   900     900\n",
            "8      Blueberry Pie   Blueberry   1300   650     650\n",
            "9       Cherry Salsa      Cherry   1600   800     800\n",
            "\n",
            "Dataset after Feature Scaling (Standardized):\n",
            "      Sales      Cost    Profit            Product    Category\n",
            "0 -1.058873 -1.058873 -1.058873        Apple Juice       Apple\n",
            "1  0.372036  0.372036  0.372036    Banana Smoothie      Banana\n",
            "2  1.802946  1.802946  1.802946         Orange Jam      Orange\n",
            "3 -0.486509 -0.486509 -0.486509        Grape Jelly       Grape\n",
            "4  1.230582  1.230582  1.230582       Kiwi Parfait        Kiwi\n",
            "5 -1.631237 -1.631237 -1.631237      Mango Chutney       Mango\n",
            "6 -0.200327 -0.200327 -0.200327   Pineapple Sorbet   Pineapple\n",
            "7  0.658218  0.658218  0.658218  Strawberry Yogurt  Strawberry\n",
            "8 -0.772691 -0.772691 -0.772691      Blueberry Pie   Blueberry\n",
            "9  0.085855  0.085855  0.085855       Cherry Salsa      Cherry\n",
            "\n",
            "Dataset after Feature Dummification:\n",
            "                                                   0\n",
            "0    (0, 0)\\t1.0\\n  (0, 10)\\t1.0\\n  (0, 20)\\t1200...\n",
            "1    (0, 1)\\t1.0\\n  (0, 11)\\t1.0\\n  (0, 20)\\t1700...\n",
            "2    (0, 7)\\t1.0\\n  (0, 17)\\t1.0\\n  (0, 20)\\t2200...\n",
            "3    (0, 4)\\t1.0\\n  (0, 14)\\t1.0\\n  (0, 20)\\t1400...\n",
            "4    (0, 5)\\t1.0\\n  (0, 15)\\t1.0\\n  (0, 20)\\t2000...\n",
            "5    (0, 6)\\t1.0\\n  (0, 16)\\t1.0\\n  (0, 20)\\t1000...\n",
            "6    (0, 8)\\t1.0\\n  (0, 18)\\t1.0\\n  (0, 20)\\t1500...\n",
            "7    (0, 9)\\t1.0\\n  (0, 19)\\t1.0\\n  (0, 20)\\t1800...\n",
            "8    (0, 2)\\t1.0\\n  (0, 12)\\t1.0\\n  (0, 20)\\t1300...\n",
            "9    (0, 3)\\t1.0\\n  (0, 13)\\t1.0\\n  (0, 20)\\t1600...\n"
          ]
        }
      ],
      "source": [
        "import pandas as pd\n",
        "from sklearn.preprocessing import StandardScaler, MinMaxScaler, OneHotEncoder\n",
        "from sklearn.compose import ColumnTransformer\n",
        "from sklearn.pipeline import Pipeline\n",
        "\n",
        "# Define the data\n",
        "data = {\n",
        "    'Product': ['Apple Juice', 'Banana Smoothie', 'Orange Jam', 'Grape Jelly', 'Kiwi Parfait', 'Mango Chutney',\n",
        "                'Pineapple Sorbet', 'Strawberry Yogurt', 'Blueberry Pie', 'Cherry Salsa'],\n",
        "    'Category': ['Apple', 'Banana', 'Orange', 'Grape', 'Kiwi', 'Mango', 'Pineapple', 'Strawberry', 'Blueberry', 'Cherry'],\n",
        "    'Sales': [1200, 1700, 2200, 1400, 2000, 1000, 1500, 1800, 1300, 1600],\n",
        "    'Cost': [600, 850, 1100, 700, 1000, 500, 750, 900, 650, 800],\n",
        "    'Profit': [600, 850, 1100, 700, 1000, 500, 750, 900, 650, 800]\n",
        "}\n",
        "\n",
        "# Create a DataFrame\n",
        "df = pd.DataFrame(data)\n",
        "\n",
        "# Display the original dataset\n",
        "print(\"Original Dataset:\")\n",
        "print(df)\n",
        "\n",
        "# Step 1: Feature Scaling (Standardization and Normalization)\n",
        "numeric_columns = ['Sales', 'Cost', 'Profit']\n",
        "scaler_standardization = StandardScaler()\n",
        "scaler_normalization = MinMaxScaler()\n",
        "\n",
        "df_scaled_standardized = pd.DataFrame(\n",
        "    scaler_standardization.fit_transform(df[numeric_columns]),\n",
        "    columns=numeric_columns\n",
        ")\n",
        "\n",
        "df_scaled_normalized = pd.DataFrame(\n",
        "    scaler_normalization.fit_transform(df[numeric_columns]),\n",
        "    columns=numeric_columns\n",
        ")\n",
        "\n",
        "# Combine the scaled numeric features with the categorical features\n",
        "df_scaled = pd.concat([\n",
        "    df_scaled_standardized,\n",
        "    df.drop(numeric_columns, axis=1)\n",
        "], axis=1)\n",
        "\n",
        "# Display the dataset after feature scaling\n",
        "print(\"\\nDataset after Feature Scaling (Standardized):\")\n",
        "print(df_scaled)\n",
        "\n",
        "# Step 2: Feature Dummification\n",
        "# Identify categorical columns\n",
        "categorical_columns = ['Product', 'Category']\n",
        "\n",
        "# Create a column transformer for dummification\n",
        "preprocessor = ColumnTransformer(\n",
        "    transformers=[\n",
        "        ('categorical', OneHotEncoder(), categorical_columns)\n",
        "    ],\n",
        "    remainder='passthrough'\n",
        ")\n",
        "\n",
        "# Apply the column transformer to the dataset\n",
        "df_dummified = pd.DataFrame(\n",
        "    preprocessor.fit_transform(df),\n",
        ")\n",
        "\n",
        "# Display the dataset after feature dummification\n",
        "print(\"\\nDataset after Feature Dummification:\")\n",
        "print(df_dummified)\n"
      ]
    }
  ]
}